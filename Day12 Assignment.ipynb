{
 "cells": [
  {
   "cell_type": "code",
   "execution_count": null,
   "id": "92d27976-cf5c-4835-9cbe-506b15223b19",
   "metadata": {},
   "outputs": [],
   "source": []
  }
 ],
 "metadata": {
  "kernelspec": {
   "display_name": "",
   "name": ""
  },
  "language_info": {
   "name": ""
  }
 },
 "nbformat": 4,
 "nbformat_minor": 5
}
