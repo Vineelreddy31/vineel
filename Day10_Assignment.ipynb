{
  "nbformat": 4,
  "nbformat_minor": 0,
  "metadata": {
    "colab": {
      "provenance": []
    },
    "kernelspec": {
      "name": "python3",
      "display_name": "Python 3"
    },
    "language_info": {
      "name": "python"
    }
  },
  "cells": [
    {
      "cell_type": "code",
      "execution_count": 1,
      "metadata": {
        "colab": {
          "base_uri": "https://localhost:8080/",
          "height": 73
        },
        "id": "gUq1uh4LgqwK",
        "outputId": "d53ce50a-82d6-4245-afa7-045a1bd69be6"
      },
      "outputs": [
        {
          "output_type": "display_data",
          "data": {
            "text/plain": [
              "<IPython.core.display.HTML object>"
            ],
            "text/html": [
              "\n",
              "     <input type=\"file\" id=\"files-e83bd46f-bd18-41f7-b798-63b6e1b84f5b\" name=\"files[]\" multiple disabled\n",
              "        style=\"border:none\" />\n",
              "     <output id=\"result-e83bd46f-bd18-41f7-b798-63b6e1b84f5b\">\n",
              "      Upload widget is only available when the cell has been executed in the\n",
              "      current browser session. Please rerun this cell to enable.\n",
              "      </output>\n",
              "      <script>// Copyright 2017 Google LLC\n",
              "//\n",
              "// Licensed under the Apache License, Version 2.0 (the \"License\");\n",
              "// you may not use this file except in compliance with the License.\n",
              "// You may obtain a copy of the License at\n",
              "//\n",
              "//      http://www.apache.org/licenses/LICENSE-2.0\n",
              "//\n",
              "// Unless required by applicable law or agreed to in writing, software\n",
              "// distributed under the License is distributed on an \"AS IS\" BASIS,\n",
              "// WITHOUT WARRANTIES OR CONDITIONS OF ANY KIND, either express or implied.\n",
              "// See the License for the specific language governing permissions and\n",
              "// limitations under the License.\n",
              "\n",
              "/**\n",
              " * @fileoverview Helpers for google.colab Python module.\n",
              " */\n",
              "(function(scope) {\n",
              "function span(text, styleAttributes = {}) {\n",
              "  const element = document.createElement('span');\n",
              "  element.textContent = text;\n",
              "  for (const key of Object.keys(styleAttributes)) {\n",
              "    element.style[key] = styleAttributes[key];\n",
              "  }\n",
              "  return element;\n",
              "}\n",
              "\n",
              "// Max number of bytes which will be uploaded at a time.\n",
              "const MAX_PAYLOAD_SIZE = 100 * 1024;\n",
              "\n",
              "function _uploadFiles(inputId, outputId) {\n",
              "  const steps = uploadFilesStep(inputId, outputId);\n",
              "  const outputElement = document.getElementById(outputId);\n",
              "  // Cache steps on the outputElement to make it available for the next call\n",
              "  // to uploadFilesContinue from Python.\n",
              "  outputElement.steps = steps;\n",
              "\n",
              "  return _uploadFilesContinue(outputId);\n",
              "}\n",
              "\n",
              "// This is roughly an async generator (not supported in the browser yet),\n",
              "// where there are multiple asynchronous steps and the Python side is going\n",
              "// to poll for completion of each step.\n",
              "// This uses a Promise to block the python side on completion of each step,\n",
              "// then passes the result of the previous step as the input to the next step.\n",
              "function _uploadFilesContinue(outputId) {\n",
              "  const outputElement = document.getElementById(outputId);\n",
              "  const steps = outputElement.steps;\n",
              "\n",
              "  const next = steps.next(outputElement.lastPromiseValue);\n",
              "  return Promise.resolve(next.value.promise).then((value) => {\n",
              "    // Cache the last promise value to make it available to the next\n",
              "    // step of the generator.\n",
              "    outputElement.lastPromiseValue = value;\n",
              "    return next.value.response;\n",
              "  });\n",
              "}\n",
              "\n",
              "/**\n",
              " * Generator function which is called between each async step of the upload\n",
              " * process.\n",
              " * @param {string} inputId Element ID of the input file picker element.\n",
              " * @param {string} outputId Element ID of the output display.\n",
              " * @return {!Iterable<!Object>} Iterable of next steps.\n",
              " */\n",
              "function* uploadFilesStep(inputId, outputId) {\n",
              "  const inputElement = document.getElementById(inputId);\n",
              "  inputElement.disabled = false;\n",
              "\n",
              "  const outputElement = document.getElementById(outputId);\n",
              "  outputElement.innerHTML = '';\n",
              "\n",
              "  const pickedPromise = new Promise((resolve) => {\n",
              "    inputElement.addEventListener('change', (e) => {\n",
              "      resolve(e.target.files);\n",
              "    });\n",
              "  });\n",
              "\n",
              "  const cancel = document.createElement('button');\n",
              "  inputElement.parentElement.appendChild(cancel);\n",
              "  cancel.textContent = 'Cancel upload';\n",
              "  const cancelPromise = new Promise((resolve) => {\n",
              "    cancel.onclick = () => {\n",
              "      resolve(null);\n",
              "    };\n",
              "  });\n",
              "\n",
              "  // Wait for the user to pick the files.\n",
              "  const files = yield {\n",
              "    promise: Promise.race([pickedPromise, cancelPromise]),\n",
              "    response: {\n",
              "      action: 'starting',\n",
              "    }\n",
              "  };\n",
              "\n",
              "  cancel.remove();\n",
              "\n",
              "  // Disable the input element since further picks are not allowed.\n",
              "  inputElement.disabled = true;\n",
              "\n",
              "  if (!files) {\n",
              "    return {\n",
              "      response: {\n",
              "        action: 'complete',\n",
              "      }\n",
              "    };\n",
              "  }\n",
              "\n",
              "  for (const file of files) {\n",
              "    const li = document.createElement('li');\n",
              "    li.append(span(file.name, {fontWeight: 'bold'}));\n",
              "    li.append(span(\n",
              "        `(${file.type || 'n/a'}) - ${file.size} bytes, ` +\n",
              "        `last modified: ${\n",
              "            file.lastModifiedDate ? file.lastModifiedDate.toLocaleDateString() :\n",
              "                                    'n/a'} - `));\n",
              "    const percent = span('0% done');\n",
              "    li.appendChild(percent);\n",
              "\n",
              "    outputElement.appendChild(li);\n",
              "\n",
              "    const fileDataPromise = new Promise((resolve) => {\n",
              "      const reader = new FileReader();\n",
              "      reader.onload = (e) => {\n",
              "        resolve(e.target.result);\n",
              "      };\n",
              "      reader.readAsArrayBuffer(file);\n",
              "    });\n",
              "    // Wait for the data to be ready.\n",
              "    let fileData = yield {\n",
              "      promise: fileDataPromise,\n",
              "      response: {\n",
              "        action: 'continue',\n",
              "      }\n",
              "    };\n",
              "\n",
              "    // Use a chunked sending to avoid message size limits. See b/62115660.\n",
              "    let position = 0;\n",
              "    do {\n",
              "      const length = Math.min(fileData.byteLength - position, MAX_PAYLOAD_SIZE);\n",
              "      const chunk = new Uint8Array(fileData, position, length);\n",
              "      position += length;\n",
              "\n",
              "      const base64 = btoa(String.fromCharCode.apply(null, chunk));\n",
              "      yield {\n",
              "        response: {\n",
              "          action: 'append',\n",
              "          file: file.name,\n",
              "          data: base64,\n",
              "        },\n",
              "      };\n",
              "\n",
              "      let percentDone = fileData.byteLength === 0 ?\n",
              "          100 :\n",
              "          Math.round((position / fileData.byteLength) * 100);\n",
              "      percent.textContent = `${percentDone}% done`;\n",
              "\n",
              "    } while (position < fileData.byteLength);\n",
              "  }\n",
              "\n",
              "  // All done.\n",
              "  yield {\n",
              "    response: {\n",
              "      action: 'complete',\n",
              "    }\n",
              "  };\n",
              "}\n",
              "\n",
              "scope.google = scope.google || {};\n",
              "scope.google.colab = scope.google.colab || {};\n",
              "scope.google.colab._files = {\n",
              "  _uploadFiles,\n",
              "  _uploadFilesContinue,\n",
              "};\n",
              "})(self);\n",
              "</script> "
            ]
          },
          "metadata": {}
        },
        {
          "output_type": "stream",
          "name": "stdout",
          "text": [
            "Saving Day_10_banking_data.csv to Day_10_banking_data.csv\n"
          ]
        }
      ],
      "source": [
        "from google.colab import files\n",
        "# Upload the file\n",
        "uploaded = files.upload()\n",
        "\n"
      ]
    },
    {
      "cell_type": "code",
      "source": [
        "import pandas as pd\n",
        "fp='Day_10_banking_data.csv'\n",
        "banking_data=pd.read_csv(fp)\n",
        "filtered_transactions=banking_data[banking_data['Transaction_Amount'] <= 2000]\n",
        "print(\"Rows where Transaction_Amount is less than or equal to 2000:\")\n",
        "print(filtered_transactions)"
      ],
      "metadata": {
        "colab": {
          "base_uri": "https://localhost:8080/"
        },
        "id": "ns1kn5sTgreK",
        "outputId": "ab700d19-ebe9-4420-ff5c-1fff9068a66f"
      },
      "execution_count": 2,
      "outputs": [
        {
          "output_type": "stream",
          "name": "stdout",
          "text": [
            "Rows where Transaction_Amount is less than or equal to 2000:\n",
            "          Date       Account_Type    Branch Transaction_Type  \\\n",
            "0   2023-01-19      Fixed Deposit   Central     Loan Payment   \n",
            "1   2023-01-16            Current    Uptown       Withdrawal   \n",
            "3   2023-01-18            Savings    Uptown     Loan Payment   \n",
            "6   2023-01-04  Recurring Deposit   Central   Service Charge   \n",
            "9   2023-01-11      Fixed Deposit  Downtown          Deposit   \n",
            "10  2023-01-13  Recurring Deposit   Central          Deposit   \n",
            "11  2023-01-08      Fixed Deposit  Suburban   Service Charge   \n",
            "12  2023-01-15      Fixed Deposit    Uptown   Service Charge   \n",
            "18  2023-01-12  Recurring Deposit  Suburban   Service Charge   \n",
            "\n",
            "    Transaction_Amount  Account_Balance  \n",
            "0               985.51          6839.59  \n",
            "1               641.43          8908.39  \n",
            "3              1914.60          5776.63  \n",
            "6              1621.82          6465.79  \n",
            "9              1529.59          2592.16  \n",
            "10              846.41          6443.14  \n",
            "11             1803.88          6560.58  \n",
            "12             1225.50          4224.47  \n",
            "18             1339.57          8666.74  \n"
          ]
        }
      ]
    },
    {
      "cell_type": "code",
      "source": [
        "loan_payment_filter=banking_data[\n",
        "(banking_data['Transaction_Type']=='Loan Payment') &(banking_data['Account_Balance'] > 5000)\n",
        "]\n",
        "print(\"\\nRows where Transaction_Type is 'Loan Payment' and Account_Balance > 5000:\")\n",
        "print(loan_payment_filter)"
      ],
      "metadata": {
        "colab": {
          "base_uri": "https://localhost:8080/"
        },
        "id": "kgpncsFthBW8",
        "outputId": "a9ff001d-d7d7-41b9-8c5b-1508dbd13f89"
      },
      "execution_count": 4,
      "outputs": [
        {
          "output_type": "stream",
          "name": "stdout",
          "text": [
            "\n",
            "Rows where Transaction_Type is 'Loan Payment' and Account_Balance > 5000:\n",
            "          Date       Account_Type   Branch Transaction_Type  \\\n",
            "0   2023-01-19      Fixed Deposit  Central     Loan Payment   \n",
            "2   2023-01-10            Current   Uptown     Loan Payment   \n",
            "3   2023-01-18            Savings   Uptown     Loan Payment   \n",
            "7   2023-01-09            Current  Central     Loan Payment   \n",
            "13  2023-01-05  Recurring Deposit  Central     Loan Payment   \n",
            "17  2023-01-07            Current  Central     Loan Payment   \n",
            "\n",
            "    Transaction_Amount  Account_Balance  \n",
            "0               985.51          6839.59  \n",
            "2              3363.85         12428.67  \n",
            "3              1914.60          5776.63  \n",
            "7              2346.72         10708.85  \n",
            "13             4683.64          6762.43  \n",
            "17             4116.52          9785.64  \n"
          ]
        }
      ]
    },
    {
      "cell_type": "code",
      "source": [
        "uptown_transactions=banking_data[banking_data['Branch']=='Uptown']\n",
        "print(\"\\nTransactions made in the 'Uptown' branch:\")\n",
        "print(uptown_transactions)"
      ],
      "metadata": {
        "colab": {
          "base_uri": "https://localhost:8080/"
        },
        "id": "_WcT_Cd2hFaQ",
        "outputId": "f1c85574-3fa5-4ae2-aa0a-86dff41404bc"
      },
      "execution_count": 5,
      "outputs": [
        {
          "output_type": "stream",
          "name": "stdout",
          "text": [
            "\n",
            "Transactions made in the 'Uptown' branch:\n",
            "          Date   Account_Type  Branch Transaction_Type  Transaction_Amount  \\\n",
            "1   2023-01-16        Current  Uptown       Withdrawal              641.43   \n",
            "2   2023-01-10        Current  Uptown     Loan Payment             3363.85   \n",
            "3   2023-01-18        Savings  Uptown     Loan Payment             1914.60   \n",
            "12  2023-01-15  Fixed Deposit  Uptown   Service Charge             1225.50   \n",
            "\n",
            "    Account_Balance  \n",
            "1           8908.39  \n",
            "2          12428.67  \n",
            "3           5776.63  \n",
            "12          4224.47  \n"
          ]
        }
      ]
    },
    {
      "cell_type": "code",
      "source": [
        "banking_data['Transaction_Fee']=banking_data['Transaction_Amount']*0.02\n",
        "# Create a new column Balance_Status\n",
        "banking_data['Balance_Status']=banking_data['Account_Balance'].apply(\n",
        "lambda x: 'High Balance' if x > 5000 else 'Low Balance'\n",
        ")\n",
        "print(\"\\nData with new columns (Transaction_Fee and Balance_Status):\")\n",
        "print(banking_data[['Transaction_Amount', 'Transaction_Fee', 'Account_Balance', 'Balance_Status']])\n",
        ""
      ],
      "metadata": {
        "colab": {
          "base_uri": "https://localhost:8080/"
        },
        "id": "WofCiqVghLy6",
        "outputId": "2c7a30ab-fdb1-4650-ab88-84662fb39437"
      },
      "execution_count": 6,
      "outputs": [
        {
          "output_type": "stream",
          "name": "stdout",
          "text": [
            "\n",
            "Data with new columns (Transaction_Fee and Balance_Status):\n",
            "    Transaction_Amount  Transaction_Fee  Account_Balance Balance_Status\n",
            "0               985.51          19.7102          6839.59   High Balance\n",
            "1               641.43          12.8286          8908.39   High Balance\n",
            "2              3363.85          67.2770         12428.67   High Balance\n",
            "3              1914.60          38.2920          5776.63   High Balance\n",
            "4              2788.57          55.7714          4779.04    Low Balance\n",
            "5              4584.05          91.6810          7635.47   High Balance\n",
            "6              1621.82          32.4364          6465.79   High Balance\n",
            "7              2346.72          46.9344         10708.85   High Balance\n",
            "8              3899.98          77.9996         12646.56   High Balance\n",
            "9              1529.59          30.5918          2592.16    Low Balance\n",
            "10              846.41          16.9282          6443.14   High Balance\n",
            "11             1803.88          36.0776          6560.58   High Balance\n",
            "12             1225.50          24.5100          4224.47    Low Balance\n",
            "13             4683.64          93.6728          6762.43   High Balance\n",
            "14             4136.54          82.7308          8175.08   High Balance\n",
            "15             3350.32          67.0064         12836.51   High Balance\n",
            "16             4421.57          88.4314          8330.40   High Balance\n",
            "17             4116.52          82.3304          9785.64   High Balance\n",
            "18             1339.57          26.7914          8666.74   High Balance\n",
            "19             4516.52          90.3304          8789.19   High Balance\n"
          ]
        }
      ]
    },
    {
      "cell_type": "code",
      "source": [],
      "metadata": {
        "id": "SSOVwR63hQKG"
      },
      "execution_count": null,
      "outputs": []
    }
  ]
}