{
 "cells": [
  {
   "cell_type": "code",
   "execution_count": null,
   "id": "46628f52-8490-402f-9e33-8daa93236ae2",
   "metadata": {},
   "outputs": [],
   "source": []
  }
 ],
 "metadata": {
  "kernelspec": {
   "display_name": "",
   "name": ""
  },
  "language_info": {
   "name": ""
  }
 },
 "nbformat": 4,
 "nbformat_minor": 5
}
