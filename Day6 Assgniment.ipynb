{
 "cells": [
  {
   "cell_type": "code",
   "execution_count": null,
   "id": "f4f209ef-1400-41ff-a082-367b4c1ac5c4",
   "metadata": {},
   "outputs": [],
   "source": []
  }
 ],
 "metadata": {
  "kernelspec": {
   "display_name": "",
   "name": ""
  },
  "language_info": {
   "name": ""
  }
 },
 "nbformat": 4,
 "nbformat_minor": 5
}
