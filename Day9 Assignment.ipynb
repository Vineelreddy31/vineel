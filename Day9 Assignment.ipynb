{
  "nbformat": 4,
  "nbformat_minor": 0,
  "metadata": {
    "colab": {
      "provenance": []
    },
    "kernelspec": {
      "name": "python3",
      "display_name": "Python 3"
    },
    "language_info": {
      "name": "python"
    }
  },
  "cells": [
    {
      "cell_type": "code",
      "execution_count": 1,
      "metadata": {
        "colab": {
          "base_uri": "https://localhost:8080/",
          "height": 73
        },
        "id": "Wh_64EfefrYR",
        "outputId": "7d813742-99ad-498b-a11c-a7e3ec114cff"
      },
      "outputs": [
        {
          "output_type": "display_data",
          "data": {
            "text/plain": [
              "<IPython.core.display.HTML object>"
            ],
            "text/html": [
              "\n",
              "     <input type=\"file\" id=\"files-c8853f45-0e59-4b46-8ba6-658d03a6e52f\" name=\"files[]\" multiple disabled\n",
              "        style=\"border:none\" />\n",
              "     <output id=\"result-c8853f45-0e59-4b46-8ba6-658d03a6e52f\">\n",
              "      Upload widget is only available when the cell has been executed in the\n",
              "      current browser session. Please rerun this cell to enable.\n",
              "      </output>\n",
              "      <script>// Copyright 2017 Google LLC\n",
              "//\n",
              "// Licensed under the Apache License, Version 2.0 (the \"License\");\n",
              "// you may not use this file except in compliance with the License.\n",
              "// You may obtain a copy of the License at\n",
              "//\n",
              "//      http://www.apache.org/licenses/LICENSE-2.0\n",
              "//\n",
              "// Unless required by applicable law or agreed to in writing, software\n",
              "// distributed under the License is distributed on an \"AS IS\" BASIS,\n",
              "// WITHOUT WARRANTIES OR CONDITIONS OF ANY KIND, either express or implied.\n",
              "// See the License for the specific language governing permissions and\n",
              "// limitations under the License.\n",
              "\n",
              "/**\n",
              " * @fileoverview Helpers for google.colab Python module.\n",
              " */\n",
              "(function(scope) {\n",
              "function span(text, styleAttributes = {}) {\n",
              "  const element = document.createElement('span');\n",
              "  element.textContent = text;\n",
              "  for (const key of Object.keys(styleAttributes)) {\n",
              "    element.style[key] = styleAttributes[key];\n",
              "  }\n",
              "  return element;\n",
              "}\n",
              "\n",
              "// Max number of bytes which will be uploaded at a time.\n",
              "const MAX_PAYLOAD_SIZE = 100 * 1024;\n",
              "\n",
              "function _uploadFiles(inputId, outputId) {\n",
              "  const steps = uploadFilesStep(inputId, outputId);\n",
              "  const outputElement = document.getElementById(outputId);\n",
              "  // Cache steps on the outputElement to make it available for the next call\n",
              "  // to uploadFilesContinue from Python.\n",
              "  outputElement.steps = steps;\n",
              "\n",
              "  return _uploadFilesContinue(outputId);\n",
              "}\n",
              "\n",
              "// This is roughly an async generator (not supported in the browser yet),\n",
              "// where there are multiple asynchronous steps and the Python side is going\n",
              "// to poll for completion of each step.\n",
              "// This uses a Promise to block the python side on completion of each step,\n",
              "// then passes the result of the previous step as the input to the next step.\n",
              "function _uploadFilesContinue(outputId) {\n",
              "  const outputElement = document.getElementById(outputId);\n",
              "  const steps = outputElement.steps;\n",
              "\n",
              "  const next = steps.next(outputElement.lastPromiseValue);\n",
              "  return Promise.resolve(next.value.promise).then((value) => {\n",
              "    // Cache the last promise value to make it available to the next\n",
              "    // step of the generator.\n",
              "    outputElement.lastPromiseValue = value;\n",
              "    return next.value.response;\n",
              "  });\n",
              "}\n",
              "\n",
              "/**\n",
              " * Generator function which is called between each async step of the upload\n",
              " * process.\n",
              " * @param {string} inputId Element ID of the input file picker element.\n",
              " * @param {string} outputId Element ID of the output display.\n",
              " * @return {!Iterable<!Object>} Iterable of next steps.\n",
              " */\n",
              "function* uploadFilesStep(inputId, outputId) {\n",
              "  const inputElement = document.getElementById(inputId);\n",
              "  inputElement.disabled = false;\n",
              "\n",
              "  const outputElement = document.getElementById(outputId);\n",
              "  outputElement.innerHTML = '';\n",
              "\n",
              "  const pickedPromise = new Promise((resolve) => {\n",
              "    inputElement.addEventListener('change', (e) => {\n",
              "      resolve(e.target.files);\n",
              "    });\n",
              "  });\n",
              "\n",
              "  const cancel = document.createElement('button');\n",
              "  inputElement.parentElement.appendChild(cancel);\n",
              "  cancel.textContent = 'Cancel upload';\n",
              "  const cancelPromise = new Promise((resolve) => {\n",
              "    cancel.onclick = () => {\n",
              "      resolve(null);\n",
              "    };\n",
              "  });\n",
              "\n",
              "  // Wait for the user to pick the files.\n",
              "  const files = yield {\n",
              "    promise: Promise.race([pickedPromise, cancelPromise]),\n",
              "    response: {\n",
              "      action: 'starting',\n",
              "    }\n",
              "  };\n",
              "\n",
              "  cancel.remove();\n",
              "\n",
              "  // Disable the input element since further picks are not allowed.\n",
              "  inputElement.disabled = true;\n",
              "\n",
              "  if (!files) {\n",
              "    return {\n",
              "      response: {\n",
              "        action: 'complete',\n",
              "      }\n",
              "    };\n",
              "  }\n",
              "\n",
              "  for (const file of files) {\n",
              "    const li = document.createElement('li');\n",
              "    li.append(span(file.name, {fontWeight: 'bold'}));\n",
              "    li.append(span(\n",
              "        `(${file.type || 'n/a'}) - ${file.size} bytes, ` +\n",
              "        `last modified: ${\n",
              "            file.lastModifiedDate ? file.lastModifiedDate.toLocaleDateString() :\n",
              "                                    'n/a'} - `));\n",
              "    const percent = span('0% done');\n",
              "    li.appendChild(percent);\n",
              "\n",
              "    outputElement.appendChild(li);\n",
              "\n",
              "    const fileDataPromise = new Promise((resolve) => {\n",
              "      const reader = new FileReader();\n",
              "      reader.onload = (e) => {\n",
              "        resolve(e.target.result);\n",
              "      };\n",
              "      reader.readAsArrayBuffer(file);\n",
              "    });\n",
              "    // Wait for the data to be ready.\n",
              "    let fileData = yield {\n",
              "      promise: fileDataPromise,\n",
              "      response: {\n",
              "        action: 'continue',\n",
              "      }\n",
              "    };\n",
              "\n",
              "    // Use a chunked sending to avoid message size limits. See b/62115660.\n",
              "    let position = 0;\n",
              "    do {\n",
              "      const length = Math.min(fileData.byteLength - position, MAX_PAYLOAD_SIZE);\n",
              "      const chunk = new Uint8Array(fileData, position, length);\n",
              "      position += length;\n",
              "\n",
              "      const base64 = btoa(String.fromCharCode.apply(null, chunk));\n",
              "      yield {\n",
              "        response: {\n",
              "          action: 'append',\n",
              "          file: file.name,\n",
              "          data: base64,\n",
              "        },\n",
              "      };\n",
              "\n",
              "      let percentDone = fileData.byteLength === 0 ?\n",
              "          100 :\n",
              "          Math.round((position / fileData.byteLength) * 100);\n",
              "      percent.textContent = `${percentDone}% done`;\n",
              "\n",
              "    } while (position < fileData.byteLength);\n",
              "  }\n",
              "\n",
              "  // All done.\n",
              "  yield {\n",
              "    response: {\n",
              "      action: 'complete',\n",
              "    }\n",
              "  };\n",
              "}\n",
              "\n",
              "scope.google = scope.google || {};\n",
              "scope.google.colab = scope.google.colab || {};\n",
              "scope.google.colab._files = {\n",
              "  _uploadFiles,\n",
              "  _uploadFilesContinue,\n",
              "};\n",
              "})(self);\n",
              "</script> "
            ]
          },
          "metadata": {}
        },
        {
          "output_type": "stream",
          "name": "stdout",
          "text": [
            "Saving Day_9_banking_data.csv to Day_9_banking_data.csv\n"
          ]
        }
      ],
      "source": [
        "from google.colab import files\n",
        "# Upload the file\n",
        "uploaded=files.upload()"
      ]
    },
    {
      "cell_type": "code",
      "source": [
        "import pandas as pd\n",
        "fp='Day_9_banking_data.csv'\n",
        "banking_data=pd.read_csv(fp)\n",
        "print(\"First 5 rows of the dataset:\")\n",
        "print(banking_data.head())"
      ],
      "metadata": {
        "colab": {
          "base_uri": "https://localhost:8080/"
        },
        "id": "MciNCYfOfyFh",
        "outputId": "43f18d34-13f9-4aaf-841d-424a6773c70f"
      },
      "execution_count": 2,
      "outputs": [
        {
          "output_type": "stream",
          "name": "stdout",
          "text": [
            "First 5 rows of the dataset:\n",
            "         Date       Account_Type    Branch Transaction_Type  \\\n",
            "0  2023-01-19      Fixed Deposit   Central     Loan Payment   \n",
            "1  2023-01-16            Current    Uptown       Withdrawal   \n",
            "2  2023-01-10            Current    Uptown     Loan Payment   \n",
            "3  2023-01-18            Savings    Uptown     Loan Payment   \n",
            "4  2023-01-14  Recurring Deposit  Suburban     Loan Payment   \n",
            "\n",
            "   Transaction_Amount  Account_Balance  \n",
            "0              985.51          6839.59  \n",
            "1              641.43          8908.39  \n",
            "2             3363.85         12428.67  \n",
            "3             1914.60          5776.63  \n",
            "4             2788.57          4779.04  \n"
          ]
        }
      ]
    },
    {
      "cell_type": "code",
      "source": [
        "print(\"\\nBasic statistics of numerical columns:\")\n",
        "print(banking_data.describe())"
      ],
      "metadata": {
        "colab": {
          "base_uri": "https://localhost:8080/"
        },
        "id": "Dvyhdj1vf-Pf",
        "outputId": "290b9f37-88d0-40c6-a0f4-f4215177deb8"
      },
      "execution_count": 3,
      "outputs": [
        {
          "output_type": "stream",
          "name": "stdout",
          "text": [
            "\n",
            "Basic statistics of numerical columns:\n",
            "       Transaction_Amount  Account_Balance\n",
            "count           20.000000        20.000000\n",
            "mean          2705.829500      7967.766500\n",
            "std           1429.829787      2770.248821\n",
            "min            641.430000      2592.160000\n",
            "25%           1482.085000      6460.127500\n",
            "50%           2567.645000      7905.275000\n",
            "75%           4121.525000      9127.702500\n",
            "max           4683.640000     12836.510000\n"
          ]
        }
      ]
    },
    {
      "cell_type": "code",
      "source": [
        "print(\"\\nMissing values in the dataset:\")\n",
        "print(banking_data.isnull().sum())"
      ],
      "metadata": {
        "colab": {
          "base_uri": "https://localhost:8080/"
        },
        "id": "WHpkMa0WgBl-",
        "outputId": "41ed812c-a28f-4208-cc80-c105917432ec"
      },
      "execution_count": 4,
      "outputs": [
        {
          "output_type": "stream",
          "name": "stdout",
          "text": [
            "\n",
            "Missing values in the dataset:\n",
            "Date                  0\n",
            "Account_Type          0\n",
            "Branch                0\n",
            "Transaction_Type      0\n",
            "Transaction_Amount    0\n",
            "Account_Balance       0\n",
            "dtype: int64\n"
          ]
        }
      ]
    },
    {
      "cell_type": "code",
      "source": [
        "import pandas as pd\n",
        "fp='Day_9_banking_data.csv'\n",
        "banking_data=pd.read_csv(fp)\n",
        "account_group=banking_data.groupby('Account_Type').agg({\n",
        "'Transaction_Amount': 'sum', # Total sum of Transaction_Amount\n",
        "'Account_Balance': 'mean' # Average Account_Balance\n",
        "}).rename(columns={\n",
        "'Transaction_Amount': 'Total_Transaction_Amount',\n",
        "'Account_Balance': 'Average_Account_Balance'\n",
        "})\n",
        "print(\"Aggregations by Account_Type:\")\n",
        "print(account_group)"
      ],
      "metadata": {
        "colab": {
          "base_uri": "https://localhost:8080/"
        },
        "id": "EfJs6nYygEvg",
        "outputId": "2df4bd6b-a744-4e07-bafa-5d8b0b4d940b"
      },
      "execution_count": 5,
      "outputs": [
        {
          "output_type": "stream",
          "name": "stdout",
          "text": [
            "Aggregations by Account_Type:\n",
            "                   Total_Transaction_Amount  Average_Account_Balance\n",
            "Account_Type                                                        \n",
            "Current                            15052.57              9893.404000\n",
            "Fixed Deposit                      14102.59              6120.380000\n",
            "Recurring Deposit                  15179.99              7627.283333\n",
            "Savings                             9781.44              9134.110000\n"
          ]
        }
      ]
    },
    {
      "cell_type": "code",
      "source": [
        "branch_group=banking_data.groupby('Branch').agg({\n",
        "'Transaction_Amount': ['count', 'mean'] # Count of transactions and average Transaction_Amount\n",
        "}).rename(columns={\n",
        "'count': 'Total_Transactions',\n",
        "'mean': 'Average_Transaction_Amount'\n",
        "})\n",
        "# Flatten the multi-level column names\n",
        "branch_group.columns=['Total_Transactions', 'Average_Transaction_Amount']\n",
        "print(\"\\nAggregations by Branch:\")\n",
        "print(branch_group)\n",
        ""
      ],
      "metadata": {
        "colab": {
          "base_uri": "https://localhost:8080/"
        },
        "id": "zCZSEj-ZgIIz",
        "outputId": "2d8ca5f0-ea2b-44b5-8d2b-2d84d61eb22f"
      },
      "execution_count": 6,
      "outputs": [
        {
          "output_type": "stream",
          "name": "stdout",
          "text": [
            "\n",
            "Aggregations by Branch:\n",
            "          Total_Transactions  Average_Transaction_Amount\n",
            "Branch                                                  \n",
            "Central                    8                 2942.338750\n",
            "Downtown                   3                 3188.703333\n",
            "Suburban                   5                 2773.278000\n",
            "Uptown                     4                 1786.345000\n"
          ]
        }
      ]
    },
    {
      "cell_type": "code",
      "source": [],
      "metadata": {
        "id": "CAZCFjw_gLgR"
      },
      "execution_count": null,
      "outputs": []
    }
  ]
}