{
 "cells": [
  {
   "cell_type": "code",
   "execution_count": null,
   "id": "ba5e8b3e-7d78-486c-9044-e6f98f645bda",
   "metadata": {},
   "outputs": [],
   "source": []
  }
 ],
 "metadata": {
  "kernelspec": {
   "display_name": "",
   "name": ""
  },
  "language_info": {
   "name": ""
  }
 },
 "nbformat": 4,
 "nbformat_minor": 5
}
