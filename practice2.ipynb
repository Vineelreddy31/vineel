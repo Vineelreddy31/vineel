{
 "cells": [
  {
   "cell_type": "code",
   "execution_count": 12,
   "id": "87543478-edcf-40ed-a4fb-af028961b3fc",
   "metadata": {},
   "outputs": [
    {
     "name": "stdout",
     "output_type": "stream",
     "text": [
      "[100, 50, 256, 1000]\n",
      "[193, 443, 53]\n"
     ]
    }
   ],
   "source": [
    "a=[100,50,193,443,256,53,1000]\n",
    "b=[]\n",
    "c=[]\n",
    "for i in a:\n",
    "    if i%2==0:\n",
    "        b.append(i)\n",
    "    else:\n",
    "        c.append(i)\n",
    "print(b)\n",
    "print(c)"
   ]
  },
  {
   "cell_type": "code",
   "execution_count": 48,
   "id": "d756538f-49b2-494a-883a-6b81c93edfe4",
   "metadata": {},
   "outputs": [
    {
     "name": "stdout",
     "output_type": "stream",
     "text": [
      "[100]\n",
      "[20.5]\n",
      "[(6+8j)]\n",
      "[True]\n",
      "['A', 'B']\n"
     ]
    }
   ],
   "source": [
    "a=[\"A\",100,\"B\",20.5,True,6+8j]\n",
    "b=[]\n",
    "c=[]\n",
    "d=[]\n",
    "e=[]\n",
    "f=[]\n",
    "for i in a:\n",
    "    if type(i)==int:\n",
    "        b.append(i)\n",
    "    elif type(i)==float:\n",
    "        c.append(i)\n",
    "    elif type(i)==complex:\n",
    "        d.append(i)\n",
    "    elif type(i)==bool:\n",
    "        e.append(i)\n",
    "    else:\n",
    "        f.append(i)\n",
    "    \n",
    "print(b)\n",
    "print(c)\n",
    "print(d)\n",
    "print(e)\n",
    "print(f)"
   ]
  },
  {
   "cell_type": "code",
   "execution_count": 38,
   "id": "325c8e59-b313-49ed-9b27-e12ea990c12c",
   "metadata": {},
   "outputs": [
    {
     "name": "stdout",
     "output_type": "stream",
     "text": [
      "[['apple', 10], ['banana', 5], ['cherry', 10], ['dragon', 10], ['apple', 26]]\n"
     ]
    }
   ],
   "source": [
    "orders=[['apple',10],['banana',5],['cherry',7],['dragon',10],['apple',26]]\n",
    "for each in orders:\n",
    "    if each[0]=='cherry':\n",
    "        each[1]=10\n",
    "print(orders)"
   ]
  },
  {
   "cell_type": "code",
   "execution_count": 40,
   "id": "c18d4c45-0437-4f11-b963-c1f2a3447fc4",
   "metadata": {},
   "outputs": [
    {
     "name": "stdout",
     "output_type": "stream",
     "text": [
      "[10, 26]\n",
      "36\n"
     ]
    }
   ],
   "source": [
    "apple_orders=[]\n",
    "for each in orders:\n",
    "    if each[0]=='apple':\n",
    "        apple_orders.append(each[1])\n",
    "print(apple_orders)\n",
    "print(sum(apple_orders))"
   ]
  },
  {
   "cell_type": "code",
   "execution_count": 42,
   "id": "185602d3-7060-45fc-ad8a-857c5d027844",
   "metadata": {},
   "outputs": [
    {
     "name": "stdout",
     "output_type": "stream",
     "text": [
      "(4, 10, 9, 'A', 9, 81, False, (9-6j))\n",
      "<class 'tuple'>\n"
     ]
    }
   ],
   "source": [
    "#create a tuple\n",
    "tup1=(4,10,9,\"A\",9,81,False,9-6j)\n",
    "print(tup1)\n",
    "print(type(tup1))"
   ]
  },
  {
   "cell_type": "code",
   "execution_count": 44,
   "id": "aab19fb8-fd92-4006-8f04-352b2d33015d",
   "metadata": {},
   "outputs": [
    {
     "name": "stdout",
     "output_type": "stream",
     "text": [
      "[3, 5, 9, 10]\n",
      "(10, 20, 30, 'bye')\n",
      "(1, 3, 5, 7)\n"
     ]
    }
   ],
   "source": [
    "tup1=[3,5,9,10]\n",
    "tup2=10,20,30,'bye'\n",
    "tup3=tuple([1,3,5,7])\n",
    "print(tup1)\n",
    "print(tup2)\n",
    "print(tup3)"
   ]
  },
  {
   "cell_type": "code",
   "execution_count": 50,
   "id": "9111d5db-37ce-416e-a270-ede17c450c2d",
   "metadata": {},
   "outputs": [
    {
     "data": {
      "text/plain": [
       "([1, 2, 3], (2, 3, 4), 'hi', 200)"
      ]
     },
     "execution_count": 50,
     "metadata": {},
     "output_type": "execute_result"
    }
   ],
   "source": [
    "tup4=([1,2,3],(2,3,4),'hi',200)\n",
    "(tup4)"
   ]
  },
  {
   "cell_type": "code",
   "execution_count": 52,
   "id": "ee0a636b-634c-4197-9cc5-d4b3b6564915",
   "metadata": {},
   "outputs": [
    {
     "data": {
      "text/plain": [
       "4"
      ]
     },
     "execution_count": 52,
     "metadata": {},
     "output_type": "execute_result"
    }
   ],
   "source": [
    "# Use count()method of tuple to count an\n",
    "tup5=(10,20,1,10,10,30,10)\n",
    "tup5.count(10)"
   ]
  },
  {
   "cell_type": "code",
   "execution_count": 4,
   "id": "d83be95f-57bc-41a1-b44a-7df880fff169",
   "metadata": {},
   "outputs": [
    {
     "data": {
      "text/plain": [
       "{1, 2, 3, 4, 5, 6}"
      ]
     },
     "execution_count": 4,
     "metadata": {},
     "output_type": "execute_result"
    }
   ],
   "source": [
    "s1={1,2,3,4}\n",
    "s2={3,4,5,6}\n",
    "s1 | s2\n"
   ]
  },
  {
   "cell_type": "markdown",
   "id": "625b925c-ca7f-4045-9c75-c06fdba20117",
   "metadata": {},
   "source": [
    "s1.union(s2)"
   ]
  },
  {
   "cell_type": "code",
   "execution_count": 7,
   "id": "2fe7f3e7-4841-4d2b-9cd9-542f72d84458",
   "metadata": {},
   "outputs": [
    {
     "data": {
      "text/plain": [
       "{1, 2, 3, 6, 7, 8}"
      ]
     },
     "execution_count": 7,
     "metadata": {},
     "output_type": "execute_result"
    }
   ],
   "source": [
    "s1={1,2,3,4,5}\n",
    "s2={4,5,6,7,8}\n",
    "s1.symmetric_difference(s2)"
   ]
  },
  {
   "cell_type": "code",
   "execution_count": 9,
   "id": "8eb721a1-a60b-4856-a785-964eb286d01c",
   "metadata": {},
   "outputs": [
    {
     "name": "stdout",
     "output_type": "stream",
     "text": [
      "welcome to aiml class\n",
      "we started with python\n",
      "This is an awesome class\n"
     ]
    }
   ],
   "source": [
    "str1=\"welcome to aiml class\"\n",
    "print(str1)\n",
    "str2='we started with python'\n",
    "print(str2)\n",
    "str3='''This is an awesome class'''\n",
    "print(str3)"
   ]
  },
  {
   "cell_type": "code",
   "execution_count": 26,
   "id": "8d0186d2-18a9-4220-9b44-059237245a6f",
   "metadata": {},
   "outputs": [
    {
     "name": "stdout",
     "output_type": "stream",
     "text": [
      "He said,\"It's awesome\n"
     ]
    }
   ],
   "source": [
    "str4='''He said,\"It's awesome'''\n",
    "print(str4)"
   ]
  },
  {
   "cell_type": "code",
   "execution_count": 30,
   "id": "fdec1e1d-6584-425a-bc00-5061faf40477",
   "metadata": {},
   "outputs": [
    {
     "name": "stdout",
     "output_type": "stream",
     "text": [
      "welcome to aiml class\n"
     ]
    },
    {
     "data": {
      "text/plain": [
       "['welcome', 'to', 'aiml', 'class']"
      ]
     },
     "execution_count": 30,
     "metadata": {},
     "output_type": "execute_result"
    }
   ],
   "source": [
    "#use of split\n",
    "print(str1)\n",
    "str1.split()"
   ]
  },
  {
   "cell_type": "code",
   "execution_count": 40,
   "id": "cf2d19f8-3ac3-41fa-9afe-07d8fa291ac8",
   "metadata": {},
   "outputs": [
    {
     "data": {
      "text/plain": [
       "'The product is awesome great service'"
      ]
     },
     "execution_count": 40,
     "metadata": {},
     "output_type": "execute_result"
    }
   ],
   "source": [
    "#use of join method\n",
    "reviews=[\"The product is awesome\",\"great service\"]\n",
    "joined_string=' '.join(reviews)\n",
    "joined_string"
   ]
  },
  {
   "cell_type": "code",
   "execution_count": 50,
   "id": "94279bb6-6240-40ef-8cf3-aa10ed5fe307",
   "metadata": {},
   "outputs": [
    {
     "data": {
      "text/plain": [
       "' Hello,How are you? '"
      ]
     },
     "execution_count": 50,
     "metadata": {},
     "output_type": "execute_result"
    }
   ],
   "source": [
    "#use of strip()method\n",
    "str5=\" Hello,How are you? \"\n",
    "str5"
   ]
  },
  {
   "cell_type": "code",
   "execution_count": null,
   "id": "3453c88e-c43d-4ebb-b89e-1b3e052413c7",
   "metadata": {},
   "outputs": [],
   "source": []
  }
 ],
 "metadata": {
  "kernelspec": {
   "display_name": "Python [conda env:base] *",
   "language": "python",
   "name": "conda-base-py"
  },
  "language_info": {
   "codemirror_mode": {
    "name": "ipython",
    "version": 3
   },
   "file_extension": ".py",
   "mimetype": "text/x-python",
   "name": "python",
   "nbconvert_exporter": "python",
   "pygments_lexer": "ipython3",
   "version": "3.12.7"
  }
 },
 "nbformat": 4,
 "nbformat_minor": 5
}
